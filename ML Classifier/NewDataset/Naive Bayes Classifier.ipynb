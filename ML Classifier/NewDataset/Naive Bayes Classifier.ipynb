{
 "cells": [
  {
   "cell_type": "code",
   "execution_count": 1,
   "metadata": {},
   "outputs": [
    {
     "data": {
      "text/html": [
       "<div>\n",
       "<style scoped>\n",
       "    .dataframe tbody tr th:only-of-type {\n",
       "        vertical-align: middle;\n",
       "    }\n",
       "\n",
       "    .dataframe tbody tr th {\n",
       "        vertical-align: top;\n",
       "    }\n",
       "\n",
       "    .dataframe thead th {\n",
       "        text-align: right;\n",
       "    }\n",
       "</style>\n",
       "<table border=\"1\" class=\"dataframe\">\n",
       "  <thead>\n",
       "    <tr style=\"text-align: right;\">\n",
       "      <th></th>\n",
       "      <th>Profile Pic</th>\n",
       "      <th>Nums/Length Username</th>\n",
       "      <th>Full Name Words</th>\n",
       "      <th>Bio Length</th>\n",
       "      <th>External Url</th>\n",
       "      <th>Verified</th>\n",
       "      <th>Business</th>\n",
       "      <th>#Posts</th>\n",
       "      <th>#Followers</th>\n",
       "      <th>#Following</th>\n",
       "      <th>Last Post Recent</th>\n",
       "      <th>%Post Single Day</th>\n",
       "      <th>Index of Activity</th>\n",
       "      <th>Average of Likes</th>\n",
       "      <th>Fake</th>\n",
       "      <th>Profile Pic Url</th>\n",
       "      <th>Username</th>\n",
       "    </tr>\n",
       "  </thead>\n",
       "  <tbody>\n",
       "    <tr>\n",
       "      <th>0</th>\n",
       "      <td>1</td>\n",
       "      <td>0.000</td>\n",
       "      <td>2</td>\n",
       "      <td>42</td>\n",
       "      <td>1</td>\n",
       "      <td>0</td>\n",
       "      <td>0</td>\n",
       "      <td>111</td>\n",
       "      <td>688</td>\n",
       "      <td>409</td>\n",
       "      <td>1</td>\n",
       "      <td>3.000</td>\n",
       "      <td>11.111</td>\n",
       "      <td>68.300</td>\n",
       "      <td>0</td>\n",
       "      <td>https://scontent-mia3-2.cdninstagram.com/v/t51...</td>\n",
       "      <td>matteo_cattani_</td>\n",
       "    </tr>\n",
       "    <tr>\n",
       "      <th>1</th>\n",
       "      <td>1</td>\n",
       "      <td>0.067</td>\n",
       "      <td>2</td>\n",
       "      <td>0</td>\n",
       "      <td>0</td>\n",
       "      <td>0</td>\n",
       "      <td>0</td>\n",
       "      <td>58</td>\n",
       "      <td>353</td>\n",
       "      <td>456</td>\n",
       "      <td>1</td>\n",
       "      <td>8.621</td>\n",
       "      <td>0.800</td>\n",
       "      <td>31.121</td>\n",
       "      <td>0</td>\n",
       "      <td>https://scontent-mia3-2.cdninstagram.com/v/t51...</td>\n",
       "      <td>gabrielebegani5</td>\n",
       "    </tr>\n",
       "    <tr>\n",
       "      <th>2</th>\n",
       "      <td>1</td>\n",
       "      <td>0.000</td>\n",
       "      <td>0</td>\n",
       "      <td>0</td>\n",
       "      <td>0</td>\n",
       "      <td>0</td>\n",
       "      <td>0</td>\n",
       "      <td>44</td>\n",
       "      <td>535</td>\n",
       "      <td>364</td>\n",
       "      <td>1</td>\n",
       "      <td>4.545</td>\n",
       "      <td>1.417</td>\n",
       "      <td>49.750</td>\n",
       "      <td>0</td>\n",
       "      <td>https://scontent-mia3-2.cdninstagram.com/v/t51...</td>\n",
       "      <td>mattelazzari</td>\n",
       "    </tr>\n",
       "    <tr>\n",
       "      <th>3</th>\n",
       "      <td>1</td>\n",
       "      <td>0.000</td>\n",
       "      <td>2</td>\n",
       "      <td>14</td>\n",
       "      <td>0</td>\n",
       "      <td>0</td>\n",
       "      <td>1</td>\n",
       "      <td>81</td>\n",
       "      <td>3109</td>\n",
       "      <td>298</td>\n",
       "      <td>1</td>\n",
       "      <td>1.235</td>\n",
       "      <td>0.833</td>\n",
       "      <td>160.556</td>\n",
       "      <td>0</td>\n",
       "      <td>https://scontent-mia3-2.cdninstagram.com/v/t51...</td>\n",
       "      <td>davidobrasil</td>\n",
       "    </tr>\n",
       "    <tr>\n",
       "      <th>4</th>\n",
       "      <td>1</td>\n",
       "      <td>0.000</td>\n",
       "      <td>2</td>\n",
       "      <td>0</td>\n",
       "      <td>0</td>\n",
       "      <td>0</td>\n",
       "      <td>1</td>\n",
       "      <td>498</td>\n",
       "      <td>1071</td>\n",
       "      <td>1999</td>\n",
       "      <td>1</td>\n",
       "      <td>2.000</td>\n",
       "      <td>5.333</td>\n",
       "      <td>95.400</td>\n",
       "      <td>0</td>\n",
       "      <td>https://scontent-mia3-2.cdninstagram.com/v/t51...</td>\n",
       "      <td>sofiazammarchi_</td>\n",
       "    </tr>\n",
       "    <tr>\n",
       "      <th>...</th>\n",
       "      <td>...</td>\n",
       "      <td>...</td>\n",
       "      <td>...</td>\n",
       "      <td>...</td>\n",
       "      <td>...</td>\n",
       "      <td>...</td>\n",
       "      <td>...</td>\n",
       "      <td>...</td>\n",
       "      <td>...</td>\n",
       "      <td>...</td>\n",
       "      <td>...</td>\n",
       "      <td>...</td>\n",
       "      <td>...</td>\n",
       "      <td>...</td>\n",
       "      <td>...</td>\n",
       "      <td>...</td>\n",
       "      <td>...</td>\n",
       "    </tr>\n",
       "    <tr>\n",
       "      <th>995</th>\n",
       "      <td>1</td>\n",
       "      <td>0.308</td>\n",
       "      <td>1</td>\n",
       "      <td>0</td>\n",
       "      <td>0</td>\n",
       "      <td>0</td>\n",
       "      <td>0</td>\n",
       "      <td>0</td>\n",
       "      <td>87</td>\n",
       "      <td>4609</td>\n",
       "      <td>0</td>\n",
       "      <td>0.000</td>\n",
       "      <td>0.000</td>\n",
       "      <td>0.000</td>\n",
       "      <td>1</td>\n",
       "      <td>https://scontent-atl3-1.cdninstagram.com/v/t51...</td>\n",
       "      <td>sardashti2233</td>\n",
       "    </tr>\n",
       "    <tr>\n",
       "      <th>996</th>\n",
       "      <td>1</td>\n",
       "      <td>0.000</td>\n",
       "      <td>3</td>\n",
       "      <td>75</td>\n",
       "      <td>0</td>\n",
       "      <td>0</td>\n",
       "      <td>0</td>\n",
       "      <td>1</td>\n",
       "      <td>103</td>\n",
       "      <td>159</td>\n",
       "      <td>0</td>\n",
       "      <td>100.000</td>\n",
       "      <td>0.000</td>\n",
       "      <td>0.000</td>\n",
       "      <td>1</td>\n",
       "      <td>https://scontent-atl3-1.cdninstagram.com/v/t51...</td>\n",
       "      <td>_mxnsterz_backup</td>\n",
       "    </tr>\n",
       "    <tr>\n",
       "      <th>997</th>\n",
       "      <td>1</td>\n",
       "      <td>0.000</td>\n",
       "      <td>1</td>\n",
       "      <td>0</td>\n",
       "      <td>0</td>\n",
       "      <td>0</td>\n",
       "      <td>0</td>\n",
       "      <td>0</td>\n",
       "      <td>88</td>\n",
       "      <td>322</td>\n",
       "      <td>0</td>\n",
       "      <td>0.000</td>\n",
       "      <td>0.000</td>\n",
       "      <td>0.000</td>\n",
       "      <td>1</td>\n",
       "      <td>https://scontent-atl3-1.cdninstagram.com/v/t51...</td>\n",
       "      <td>rezysmods</td>\n",
       "    </tr>\n",
       "    <tr>\n",
       "      <th>998</th>\n",
       "      <td>0</td>\n",
       "      <td>0.000</td>\n",
       "      <td>1</td>\n",
       "      <td>0</td>\n",
       "      <td>0</td>\n",
       "      <td>0</td>\n",
       "      <td>0</td>\n",
       "      <td>0</td>\n",
       "      <td>929</td>\n",
       "      <td>1315</td>\n",
       "      <td>0</td>\n",
       "      <td>0.000</td>\n",
       "      <td>0.000</td>\n",
       "      <td>0.000</td>\n",
       "      <td>1</td>\n",
       "      <td>https://instagram.ffru6-1.fna.fbcdn.net/v/t51....</td>\n",
       "      <td>cravinforti_</td>\n",
       "    </tr>\n",
       "    <tr>\n",
       "      <th>999</th>\n",
       "      <td>1</td>\n",
       "      <td>0.000</td>\n",
       "      <td>3</td>\n",
       "      <td>91</td>\n",
       "      <td>0</td>\n",
       "      <td>0</td>\n",
       "      <td>0</td>\n",
       "      <td>4</td>\n",
       "      <td>230</td>\n",
       "      <td>2239</td>\n",
       "      <td>0</td>\n",
       "      <td>50.000</td>\n",
       "      <td>0.000</td>\n",
       "      <td>14.000</td>\n",
       "      <td>1</td>\n",
       "      <td>https://scontent-atl3-1.cdninstagram.com/v/t51...</td>\n",
       "      <td>murderworthpoet</td>\n",
       "    </tr>\n",
       "  </tbody>\n",
       "</table>\n",
       "<p>1000 rows × 17 columns</p>\n",
       "</div>"
      ],
      "text/plain": [
       "     Profile Pic  Nums/Length Username  Full Name Words  Bio Length  \\\n",
       "0              1                 0.000                2          42   \n",
       "1              1                 0.067                2           0   \n",
       "2              1                 0.000                0           0   \n",
       "3              1                 0.000                2          14   \n",
       "4              1                 0.000                2           0   \n",
       "..           ...                   ...              ...         ...   \n",
       "995            1                 0.308                1           0   \n",
       "996            1                 0.000                3          75   \n",
       "997            1                 0.000                1           0   \n",
       "998            0                 0.000                1           0   \n",
       "999            1                 0.000                3          91   \n",
       "\n",
       "     External Url  Verified  Business  #Posts  #Followers  #Following  \\\n",
       "0               1         0         0     111         688         409   \n",
       "1               0         0         0      58         353         456   \n",
       "2               0         0         0      44         535         364   \n",
       "3               0         0         1      81        3109         298   \n",
       "4               0         0         1     498        1071        1999   \n",
       "..            ...       ...       ...     ...         ...         ...   \n",
       "995             0         0         0       0          87        4609   \n",
       "996             0         0         0       1         103         159   \n",
       "997             0         0         0       0          88         322   \n",
       "998             0         0         0       0         929        1315   \n",
       "999             0         0         0       4         230        2239   \n",
       "\n",
       "     Last Post Recent  %Post Single Day  Index of Activity  Average of Likes  \\\n",
       "0                   1             3.000             11.111            68.300   \n",
       "1                   1             8.621              0.800            31.121   \n",
       "2                   1             4.545              1.417            49.750   \n",
       "3                   1             1.235              0.833           160.556   \n",
       "4                   1             2.000              5.333            95.400   \n",
       "..                ...               ...                ...               ...   \n",
       "995                 0             0.000              0.000             0.000   \n",
       "996                 0           100.000              0.000             0.000   \n",
       "997                 0             0.000              0.000             0.000   \n",
       "998                 0             0.000              0.000             0.000   \n",
       "999                 0            50.000              0.000            14.000   \n",
       "\n",
       "     Fake                                    Profile Pic Url          Username  \n",
       "0       0  https://scontent-mia3-2.cdninstagram.com/v/t51...   matteo_cattani_  \n",
       "1       0  https://scontent-mia3-2.cdninstagram.com/v/t51...   gabrielebegani5  \n",
       "2       0  https://scontent-mia3-2.cdninstagram.com/v/t51...      mattelazzari  \n",
       "3       0  https://scontent-mia3-2.cdninstagram.com/v/t51...      davidobrasil  \n",
       "4       0  https://scontent-mia3-2.cdninstagram.com/v/t51...   sofiazammarchi_  \n",
       "..    ...                                                ...               ...  \n",
       "995     1  https://scontent-atl3-1.cdninstagram.com/v/t51...     sardashti2233  \n",
       "996     1  https://scontent-atl3-1.cdninstagram.com/v/t51...  _mxnsterz_backup  \n",
       "997     1  https://scontent-atl3-1.cdninstagram.com/v/t51...         rezysmods  \n",
       "998     1  https://instagram.ffru6-1.fna.fbcdn.net/v/t51....      cravinforti_  \n",
       "999     1  https://scontent-atl3-1.cdninstagram.com/v/t51...   murderworthpoet  \n",
       "\n",
       "[1000 rows x 17 columns]"
      ]
     },
     "execution_count": 1,
     "metadata": {},
     "output_type": "execute_result"
    }
   ],
   "source": [
    "import pandas as pd\n",
    "\n",
    "df = pd.read_csv(\"../../NewDataset.csv\")\n",
    "df"
   ]
  },
  {
   "cell_type": "code",
   "execution_count": 2,
   "metadata": {},
   "outputs": [
    {
     "data": {
      "text/plain": [
       "array([[1.000e+00, 0.000e+00, 2.000e+00, ..., 6.880e+02, 4.090e+02,\n",
       "        1.000e+00],\n",
       "       [1.000e+00, 6.700e-02, 2.000e+00, ..., 3.530e+02, 4.560e+02,\n",
       "        1.000e+00],\n",
       "       [1.000e+00, 0.000e+00, 0.000e+00, ..., 5.350e+02, 3.640e+02,\n",
       "        1.000e+00],\n",
       "       ...,\n",
       "       [1.000e+00, 0.000e+00, 1.000e+00, ..., 8.800e+01, 3.220e+02,\n",
       "        0.000e+00],\n",
       "       [0.000e+00, 0.000e+00, 1.000e+00, ..., 9.290e+02, 1.315e+03,\n",
       "        0.000e+00],\n",
       "       [1.000e+00, 0.000e+00, 3.000e+00, ..., 2.300e+02, 2.239e+03,\n",
       "        0.000e+00]])"
      ]
     },
     "execution_count": 2,
     "metadata": {},
     "output_type": "execute_result"
    }
   ],
   "source": [
    "X=df.iloc[:, 0:11].values\n",
    "X"
   ]
  },
  {
   "cell_type": "code",
   "execution_count": 3,
   "metadata": {},
   "outputs": [
    {
     "data": {
      "text/html": [
       "<div>\n",
       "<style scoped>\n",
       "    .dataframe tbody tr th:only-of-type {\n",
       "        vertical-align: middle;\n",
       "    }\n",
       "\n",
       "    .dataframe tbody tr th {\n",
       "        vertical-align: top;\n",
       "    }\n",
       "\n",
       "    .dataframe thead th {\n",
       "        text-align: right;\n",
       "    }\n",
       "</style>\n",
       "<table border=\"1\" class=\"dataframe\">\n",
       "  <thead>\n",
       "    <tr style=\"text-align: right;\">\n",
       "      <th></th>\n",
       "      <th>Fake</th>\n",
       "    </tr>\n",
       "  </thead>\n",
       "  <tbody>\n",
       "    <tr>\n",
       "      <th>0</th>\n",
       "      <td>0</td>\n",
       "    </tr>\n",
       "    <tr>\n",
       "      <th>1</th>\n",
       "      <td>0</td>\n",
       "    </tr>\n",
       "    <tr>\n",
       "      <th>2</th>\n",
       "      <td>0</td>\n",
       "    </tr>\n",
       "    <tr>\n",
       "      <th>3</th>\n",
       "      <td>0</td>\n",
       "    </tr>\n",
       "    <tr>\n",
       "      <th>4</th>\n",
       "      <td>0</td>\n",
       "    </tr>\n",
       "    <tr>\n",
       "      <th>...</th>\n",
       "      <td>...</td>\n",
       "    </tr>\n",
       "    <tr>\n",
       "      <th>995</th>\n",
       "      <td>1</td>\n",
       "    </tr>\n",
       "    <tr>\n",
       "      <th>996</th>\n",
       "      <td>1</td>\n",
       "    </tr>\n",
       "    <tr>\n",
       "      <th>997</th>\n",
       "      <td>1</td>\n",
       "    </tr>\n",
       "    <tr>\n",
       "      <th>998</th>\n",
       "      <td>1</td>\n",
       "    </tr>\n",
       "    <tr>\n",
       "      <th>999</th>\n",
       "      <td>1</td>\n",
       "    </tr>\n",
       "  </tbody>\n",
       "</table>\n",
       "<p>1000 rows × 1 columns</p>\n",
       "</div>"
      ],
      "text/plain": [
       "     Fake\n",
       "0       0\n",
       "1       0\n",
       "2       0\n",
       "3       0\n",
       "4       0\n",
       "..    ...\n",
       "995     1\n",
       "996     1\n",
       "997     1\n",
       "998     1\n",
       "999     1\n",
       "\n",
       "[1000 rows x 1 columns]"
      ]
     },
     "execution_count": 3,
     "metadata": {},
     "output_type": "execute_result"
    }
   ],
   "source": [
    "y=df[['Fake']]\n",
    "y"
   ]
  },
  {
   "cell_type": "code",
   "execution_count": 4,
   "metadata": {},
   "outputs": [],
   "source": [
    "from sklearn import preprocessing\n",
    "X = preprocessing.normalize(X)"
   ]
  },
  {
   "cell_type": "code",
   "execution_count": 5,
   "metadata": {},
   "outputs": [
    {
     "name": "stdout",
     "output_type": "stream",
     "text": [
      "670 670\n",
      "330 330\n"
     ]
    }
   ],
   "source": [
    "from sklearn.model_selection import train_test_split\n",
    "X_train, X_test, y_train, y_test = train_test_split(X, y, test_size=0.33, random_state=42)\n",
    "\n",
    "print(len(X_train), len(y_train))\n",
    "print(len(X_test), len(y_test))"
   ]
  },
  {
   "cell_type": "code",
   "execution_count": 6,
   "metadata": {},
   "outputs": [],
   "source": [
    "# Naive Bayes\n",
    "from sklearn.naive_bayes import GaussianNB\n",
    "nb= GaussianNB()"
   ]
  },
  {
   "cell_type": "code",
   "execution_count": 7,
   "metadata": {},
   "outputs": [
    {
     "data": {
      "text/plain": [
       "GaussianNB(priors=None, var_smoothing=1e-09)"
      ]
     },
     "execution_count": 7,
     "metadata": {},
     "output_type": "execute_result"
    }
   ],
   "source": [
    "nb.fit(X_train, y_train.values.ravel()) "
   ]
  },
  {
   "cell_type": "code",
   "execution_count": 8,
   "metadata": {},
   "outputs": [
    {
     "name": "stdout",
     "output_type": "stream",
     "text": [
      "TRAIN SET 0.9014925373134328\n",
      "TEST  SET 0.8939393939393939\n"
     ]
    }
   ],
   "source": [
    "print(\"TRAIN SET\", nb.score(X_train, y_train))\n",
    "print(\"TEST  SET\", nb.score(X_test, y_test))"
   ]
  },
  {
   "cell_type": "code",
   "execution_count": 9,
   "metadata": {},
   "outputs": [
    {
     "data": {
      "text/plain": [
       "array([0.568, 0.872, 0.904, 0.812])"
      ]
     },
     "execution_count": 9,
     "metadata": {},
     "output_type": "execute_result"
    }
   ],
   "source": [
    "from sklearn.model_selection import cross_val_score\n",
    "scores = cross_val_score(nb, X, y.values.ravel(), cv=4)\n",
    "scores"
   ]
  },
  {
   "cell_type": "code",
   "execution_count": 10,
   "metadata": {},
   "outputs": [
    {
     "name": "stdout",
     "output_type": "stream",
     "text": [
      "Accuracy: 0.79 (+/- 0.26)\n"
     ]
    }
   ],
   "source": [
    "print(\"Accuracy: %0.2f (+/- %0.2f)\" % (scores.mean(), scores.std() * 2))"
   ]
  },
  {
   "cell_type": "code",
   "execution_count": 11,
   "metadata": {},
   "outputs": [
    {
     "name": "stdout",
     "output_type": "stream",
     "text": [
      "Errori in training set\n",
      "[1.55243296e-04 3.44640116e-05 1.55243296e-04 0.00000000e+00\n",
      " 0.00000000e+00 0.00000000e+00 0.00000000e+00 6.20973183e-03\n",
      " 2.71675767e-02 9.99611581e-01 0.00000000e+00] has been classified as  1 and should be  Fake\n"
     ]
    }
   ],
   "source": [
    "print(\"Errori in training set\")\n",
    "predictions = nb.predict(X_train)\n",
    "for elem, prediction, label in zip(X_train, predictions, y_train):\n",
    "  if prediction != label:\n",
    "    print(elem, 'has been classified as ', prediction, 'and should be ', label) "
   ]
  },
  {
   "cell_type": "code",
   "execution_count": 12,
   "metadata": {},
   "outputs": [],
   "source": [
    "import matplotlib.pyplot as plt\n",
    "import numpy as np\n",
    "from sklearn.metrics import roc_curve, auc"
   ]
  },
  {
   "cell_type": "code",
   "execution_count": 13,
   "metadata": {},
   "outputs": [],
   "source": [
    "def plot_confusion_matrix(cm, title='Confusion matrix', cmap=plt.cm.Blues):\n",
    "    target_names=['Fake','Genuine']\n",
    "    plt.imshow(cm, interpolation='nearest', cmap=cmap)\n",
    "    plt.title(title)\n",
    "    plt.colorbar()\n",
    "    tick_marks = np.arange(len(target_names))\n",
    "    plt.xticks(tick_marks, target_names, rotation=45)\n",
    "    plt.yticks(tick_marks, target_names)\n",
    "    plt.tight_layout()\n",
    "    plt.ylabel('True label')\n",
    "    plt.xlabel('Predicted label')"
   ]
  },
  {
   "cell_type": "code",
   "execution_count": 14,
   "metadata": {},
   "outputs": [
    {
     "name": "stdout",
     "output_type": "stream",
     "text": [
      "[[161   4]\n",
      " [ 31 134]]\n"
     ]
    },
    {
     "data": {
      "image/png": "[encoded data removed]",
      "text/plain": [
       "<Figure size 432x288 with 2 Axes>"
      ]
     },
     "metadata": {
      "needs_background": "light"
     },
     "output_type": "display_data"
    }
   ],
   "source": [
    "from sklearn.metrics import confusion_matrix, accuracy_score, classification_report\n",
    "cm = confusion_matrix(y_test, nb.predict(X_test))\n",
    "print(cm)\n",
    "plot_confusion_matrix(cm)"
   ]
  },
  {
   "cell_type": "code",
   "execution_count": 15,
   "metadata": {},
   "outputs": [],
   "source": [
    "def plot_roc_curve(y_test, y_pred):\n",
    "    false_positive_rate, true_positive_rate, thresholds = roc_curve(y_test, y_pred)\n",
    "    print (\"False Positive rate: \",false_positive_rate)\n",
    "    print (\"True Positive rate: \",true_positive_rate)\n",
    "    \n",
    "    roc_auc = auc(false_positive_rate, true_positive_rate)\n",
    "\n",
    "    plt.title('Receiver Operating Characteristic')\n",
    "    plt.plot(false_positive_rate, true_positive_rate, 'b',\n",
    "    label='AUC = %0.2f'% roc_auc)\n",
    "    plt.legend(loc='lower right')\n",
    "    plt.plot([0,1],[0,1],'r--')\n",
    "    plt.xlim([-0.1,1.2])\n",
    "    plt.ylim([-0.1,1.2])\n",
    "    plt.ylabel('True Positive Rate')\n",
    "    plt.xlabel('False Positive Rate')\n",
    "    plt.show()"
   ]
  },
  {
   "cell_type": "code",
   "execution_count": 16,
   "metadata": {},
   "outputs": [
    {
     "name": "stdout",
     "output_type": "stream",
     "text": [
      "False Positive rate:  [0.         0.02424242 1.        ]\n",
      "True Positive rate:  [0.         0.81212121 1.        ]\n"
     ]
    },
    {
     "data": {
      "image/png": "[encoded data removed]",
      "text/plain": [
       "<Figure size 432x288 with 1 Axes>"
      ]
     },
     "metadata": {
      "needs_background": "light"
     },
     "output_type": "display_data"
    }
   ],
   "source": [
    "plot_roc_curve(y_test, nb.predict(X_test))"
   ]
  },
  {
   "cell_type": "code",
   "execution_count": 17,
   "metadata": {},
   "outputs": [
    {
     "name": "stdout",
     "output_type": "stream",
     "text": [
      "              precision    recall  f1-score   support\n",
      "\n",
      "           0       0.84      0.98      0.90       165\n",
      "           1       0.97      0.81      0.88       165\n",
      "\n",
      "    accuracy                           0.89       330\n",
      "   macro avg       0.90      0.89      0.89       330\n",
      "weighted avg       0.90      0.89      0.89       330\n",
      "\n"
     ]
    }
   ],
   "source": [
    "print(classification_report(y_test, nb.predict(X_test)))"
   ]
  },
  {
   "cell_type": "code",
   "execution_count": null,
   "metadata": {},
   "outputs": [],
   "source": []
  }
 ],
 "metadata": {
  "kernelspec": {
   "display_name": "Python 3",
   "language": "python",
   "name": "python3"
  },
  "language_info": {
   "codemirror_mode": {
    "name": "ipython",
    "version": 3
   },
   "file_extension": ".py",
   "mimetype": "text/x-python",
   "name": "python",
   "nbconvert_exporter": "python",
   "pygments_lexer": "ipython3",
   "version": "3.7.5"
  }
 },
 "nbformat": 4,
 "nbformat_minor": 2
}
