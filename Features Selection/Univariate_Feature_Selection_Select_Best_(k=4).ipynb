{
 "cells": [
  {
   "cell_type": "code",
   "execution_count": 1,
   "metadata": {
    "colab": {},
    "colab_type": "code",
    "id": "HJEjyFy0WAJV"
   },
   "outputs": [],
   "source": [
    "import pandas as pd\n",
    "\n",
    "df = pd.read_csv(\"../DataSet.csv\")"
   ]
  },
  {
   "cell_type": "code",
   "execution_count": 8,
   "metadata": {
    "colab": {
     "base_uri": "https://localhost:8080/",
     "height": 399
    },
    "colab_type": "code",
    "id": "Jaxe6Vq_WUje",
    "outputId": "78543650-7554-4868-c40c-f81648906bd7"
   },
   "outputs": [
    {
     "data": {
      "text/html": [
       "<div>\n",
       "<style scoped>\n",
       "    .dataframe tbody tr th:only-of-type {\n",
       "        vertical-align: middle;\n",
       "    }\n",
       "\n",
       "    .dataframe tbody tr th {\n",
       "        vertical-align: top;\n",
       "    }\n",
       "\n",
       "    .dataframe thead th {\n",
       "        text-align: right;\n",
       "    }\n",
       "</style>\n",
       "<table border=\"1\" class=\"dataframe\">\n",
       "  <thead>\n",
       "    <tr style=\"text-align: right;\">\n",
       "      <th></th>\n",
       "      <th>Profile Pic</th>\n",
       "      <th>Nums/Length Username</th>\n",
       "      <th>Full Name Words</th>\n",
       "      <th>Bio Length</th>\n",
       "      <th>External Url</th>\n",
       "      <th>Private</th>\n",
       "      <th>Verified</th>\n",
       "      <th>Business</th>\n",
       "      <th>#Posts</th>\n",
       "      <th>#Followers</th>\n",
       "      <th>#Following</th>\n",
       "      <th>Delta</th>\n",
       "      <th>Fake</th>\n",
       "    </tr>\n",
       "  </thead>\n",
       "  <tbody>\n",
       "    <tr>\n",
       "      <th>0</th>\n",
       "      <td>1</td>\n",
       "      <td>0.000</td>\n",
       "      <td>2</td>\n",
       "      <td>42</td>\n",
       "      <td>1</td>\n",
       "      <td>0</td>\n",
       "      <td>0</td>\n",
       "      <td>0</td>\n",
       "      <td>102</td>\n",
       "      <td>678</td>\n",
       "      <td>405</td>\n",
       "      <td>273</td>\n",
       "      <td>0</td>\n",
       "    </tr>\n",
       "    <tr>\n",
       "      <th>1</th>\n",
       "      <td>1</td>\n",
       "      <td>0.067</td>\n",
       "      <td>2</td>\n",
       "      <td>0</td>\n",
       "      <td>0</td>\n",
       "      <td>0</td>\n",
       "      <td>0</td>\n",
       "      <td>0</td>\n",
       "      <td>58</td>\n",
       "      <td>334</td>\n",
       "      <td>434</td>\n",
       "      <td>-100</td>\n",
       "      <td>0</td>\n",
       "    </tr>\n",
       "    <tr>\n",
       "      <th>2</th>\n",
       "      <td>1</td>\n",
       "      <td>0.000</td>\n",
       "      <td>0</td>\n",
       "      <td>0</td>\n",
       "      <td>0</td>\n",
       "      <td>0</td>\n",
       "      <td>0</td>\n",
       "      <td>0</td>\n",
       "      <td>44</td>\n",
       "      <td>539</td>\n",
       "      <td>364</td>\n",
       "      <td>175</td>\n",
       "      <td>0</td>\n",
       "    </tr>\n",
       "    <tr>\n",
       "      <th>3</th>\n",
       "      <td>1</td>\n",
       "      <td>0.000</td>\n",
       "      <td>2</td>\n",
       "      <td>14</td>\n",
       "      <td>0</td>\n",
       "      <td>0</td>\n",
       "      <td>0</td>\n",
       "      <td>0</td>\n",
       "      <td>188</td>\n",
       "      <td>3098</td>\n",
       "      <td>286</td>\n",
       "      <td>2812</td>\n",
       "      <td>0</td>\n",
       "    </tr>\n",
       "    <tr>\n",
       "      <th>4</th>\n",
       "      <td>1</td>\n",
       "      <td>0.000</td>\n",
       "      <td>2</td>\n",
       "      <td>0</td>\n",
       "      <td>0</td>\n",
       "      <td>0</td>\n",
       "      <td>0</td>\n",
       "      <td>1</td>\n",
       "      <td>496</td>\n",
       "      <td>1079</td>\n",
       "      <td>1979</td>\n",
       "      <td>-900</td>\n",
       "      <td>0</td>\n",
       "    </tr>\n",
       "    <tr>\n",
       "      <th>...</th>\n",
       "      <td>...</td>\n",
       "      <td>...</td>\n",
       "      <td>...</td>\n",
       "      <td>...</td>\n",
       "      <td>...</td>\n",
       "      <td>...</td>\n",
       "      <td>...</td>\n",
       "      <td>...</td>\n",
       "      <td>...</td>\n",
       "      <td>...</td>\n",
       "      <td>...</td>\n",
       "      <td>...</td>\n",
       "      <td>...</td>\n",
       "    </tr>\n",
       "    <tr>\n",
       "      <th>1195</th>\n",
       "      <td>1</td>\n",
       "      <td>0.000</td>\n",
       "      <td>2</td>\n",
       "      <td>2</td>\n",
       "      <td>0</td>\n",
       "      <td>1</td>\n",
       "      <td>0</td>\n",
       "      <td>0</td>\n",
       "      <td>8</td>\n",
       "      <td>661</td>\n",
       "      <td>1562</td>\n",
       "      <td>-901</td>\n",
       "      <td>1</td>\n",
       "    </tr>\n",
       "    <tr>\n",
       "      <th>1196</th>\n",
       "      <td>0</td>\n",
       "      <td>0.000</td>\n",
       "      <td>0</td>\n",
       "      <td>0</td>\n",
       "      <td>0</td>\n",
       "      <td>0</td>\n",
       "      <td>0</td>\n",
       "      <td>0</td>\n",
       "      <td>0</td>\n",
       "      <td>2</td>\n",
       "      <td>223</td>\n",
       "      <td>-221</td>\n",
       "      <td>1</td>\n",
       "    </tr>\n",
       "    <tr>\n",
       "      <th>1197</th>\n",
       "      <td>1</td>\n",
       "      <td>0.000</td>\n",
       "      <td>2</td>\n",
       "      <td>58</td>\n",
       "      <td>0</td>\n",
       "      <td>1</td>\n",
       "      <td>0</td>\n",
       "      <td>0</td>\n",
       "      <td>47</td>\n",
       "      <td>296</td>\n",
       "      <td>4909</td>\n",
       "      <td>-4613</td>\n",
       "      <td>1</td>\n",
       "    </tr>\n",
       "    <tr>\n",
       "      <th>1198</th>\n",
       "      <td>1</td>\n",
       "      <td>0.143</td>\n",
       "      <td>1</td>\n",
       "      <td>0</td>\n",
       "      <td>0</td>\n",
       "      <td>1</td>\n",
       "      <td>0</td>\n",
       "      <td>0</td>\n",
       "      <td>0</td>\n",
       "      <td>5</td>\n",
       "      <td>67</td>\n",
       "      <td>-62</td>\n",
       "      <td>1</td>\n",
       "    </tr>\n",
       "    <tr>\n",
       "      <th>1199</th>\n",
       "      <td>1</td>\n",
       "      <td>0.000</td>\n",
       "      <td>1</td>\n",
       "      <td>0</td>\n",
       "      <td>0</td>\n",
       "      <td>0</td>\n",
       "      <td>0</td>\n",
       "      <td>0</td>\n",
       "      <td>3</td>\n",
       "      <td>81</td>\n",
       "      <td>6108</td>\n",
       "      <td>-6027</td>\n",
       "      <td>1</td>\n",
       "    </tr>\n",
       "  </tbody>\n",
       "</table>\n",
       "<p>1200 rows × 13 columns</p>\n",
       "</div>"
      ],
      "text/plain": [
       "      Profile Pic  Nums/Length Username  Full Name Words  Bio Length  \\\n",
       "0               1                 0.000                2          42   \n",
       "1               1                 0.067                2           0   \n",
       "2               1                 0.000                0           0   \n",
       "3               1                 0.000                2          14   \n",
       "4               1                 0.000                2           0   \n",
       "...           ...                   ...              ...         ...   \n",
       "1195            1                 0.000                2           2   \n",
       "1196            0                 0.000                0           0   \n",
       "1197            1                 0.000                2          58   \n",
       "1198            1                 0.143                1           0   \n",
       "1199            1                 0.000                1           0   \n",
       "\n",
       "      External Url  Private  Verified  Business  #Posts  #Followers  \\\n",
       "0                1        0         0         0     102         678   \n",
       "1                0        0         0         0      58         334   \n",
       "2                0        0         0         0      44         539   \n",
       "3                0        0         0         0     188        3098   \n",
       "4                0        0         0         1     496        1079   \n",
       "...            ...      ...       ...       ...     ...         ...   \n",
       "1195             0        1         0         0       8         661   \n",
       "1196             0        0         0         0       0           2   \n",
       "1197             0        1         0         0      47         296   \n",
       "1198             0        1         0         0       0           5   \n",
       "1199             0        0         0         0       3          81   \n",
       "\n",
       "      #Following  Delta  Fake  \n",
       "0            405    273     0  \n",
       "1            434   -100     0  \n",
       "2            364    175     0  \n",
       "3            286   2812     0  \n",
       "4           1979   -900     0  \n",
       "...          ...    ...   ...  \n",
       "1195        1562   -901     1  \n",
       "1196         223   -221     1  \n",
       "1197        4909  -4613     1  \n",
       "1198          67    -62     1  \n",
       "1199        6108  -6027     1  \n",
       "\n",
       "[1200 rows x 13 columns]"
      ]
     },
     "execution_count": 8,
     "metadata": {},
     "output_type": "execute_result"
    }
   ],
   "source": [
    "df"
   ]
  },
  {
   "cell_type": "code",
   "execution_count": 9,
   "metadata": {
    "colab": {
     "base_uri": "https://localhost:8080/",
     "height": 248
    },
    "colab_type": "code",
    "id": "SVoF8iPLWWzM",
    "outputId": "5a4ac8d3-b067-4c2e-9bdd-f5cd6453b9b2"
   },
   "outputs": [
    {
     "data": {
      "text/plain": [
       "array([  1.,   0.,   2.,  42.,   1.,   0.,   0.,   0., 102., 678., 405.])"
      ]
     },
     "execution_count": 9,
     "metadata": {},
     "output_type": "execute_result"
    }
   ],
   "source": [
    "# Set X array, containing all the values to valuate a Fake Account\n",
    "# Take the first 11 columns because the algorithm doesn't accept any negative value\n",
    "X = df.iloc[:, 0:11].values\n",
    "X[0]"
   ]
  },
  {
   "cell_type": "code",
   "execution_count": 10,
   "metadata": {
    "colab": {
     "base_uri": "https://localhost:8080/",
     "height": 35
    },
    "colab_type": "code",
    "id": "_Ekp8AVPWlci",
    "outputId": "386fd9b2-0271-4855-82f6-92b6462e8be9"
   },
   "outputs": [
    {
     "data": {
      "text/plain": [
       "array([0, 0, 0, ..., 1, 1, 1])"
      ]
     },
     "execution_count": 10,
     "metadata": {},
     "output_type": "execute_result"
    }
   ],
   "source": [
    "# Assign y and print \n",
    "y=df.iloc[:,12].values\n",
    "y"
   ]
  },
  {
   "cell_type": "code",
   "execution_count": 11,
   "metadata": {
    "colab": {
     "base_uri": "https://localhost:8080/",
     "height": 35
    },
    "colab_type": "code",
    "id": "QXKbtVt8WnBl",
    "outputId": "66adc68e-975e-4b11-8de6-9b35b15ec1c3"
   },
   "outputs": [
    {
     "data": {
      "text/plain": [
       "(1200, 11)"
      ]
     },
     "execution_count": 11,
     "metadata": {},
     "output_type": "execute_result"
    }
   ],
   "source": [
    "from sklearn.feature_selection import SelectKBest\n",
    "from sklearn.feature_selection import chi2\n",
    "X.shape\n",
    "# Taken 1200 records and 11 values each to valuate if an account is fake or not"
   ]
  },
  {
   "cell_type": "code",
   "execution_count": 12,
   "metadata": {
    "colab": {
     "base_uri": "https://localhost:8080/",
     "height": 35
    },
    "colab_type": "code",
    "id": "j4Eyeb-BXBhR",
    "outputId": "28a3c6e4-2552-4568-f83f-23c989f22f79"
   },
   "outputs": [
    {
     "data": {
      "text/plain": [
       "(1200, 4)"
      ]
     },
     "execution_count": 12,
     "metadata": {},
     "output_type": "execute_result"
    }
   ],
   "source": [
    "# removes all but the k = 4 highest scoring features\n",
    "X_new = SelectKBest(chi2, k=4).fit_transform(X, y)\n",
    "X_new.shape"
   ]
  },
  {
   "cell_type": "code",
   "execution_count": 13,
   "metadata": {
    "colab": {
     "base_uri": "https://localhost:8080/",
     "height": 141
    },
    "colab_type": "code",
    "id": "wTk_4pcaYFlJ",
    "outputId": "307739ee-3c01-4ebd-b2fb-0b070ce1d96b"
   },
   "outputs": [
    {
     "data": {
      "text/plain": [
       "array([ 42., 102., 678., 405.])"
      ]
     },
     "execution_count": 13,
     "metadata": {},
     "output_type": "execute_result"
    }
   ],
   "source": [
    "X_new[0]"
   ]
  },
  {
   "cell_type": "code",
   "execution_count": 14,
   "metadata": {
    "colab": {
     "base_uri": "https://localhost:8080/",
     "height": 370
    },
    "colab_type": "code",
    "id": "dpxIcPztXDyg",
    "outputId": "f4785483-be7a-4315-9ba8-e1987ae67a8a"
   },
   "outputs": [
    {
     "name": "stdout",
     "output_type": "stream",
     "text": [
      "Feature ranking:\n",
      "1. feature 3 (0.374238) #Following\n",
      "2. feature 0 (0.280375) Bio Length\n",
      "3. feature 2 (0.176124) #Followers\n",
      "4. feature 1 (0.169263) #Post\n"
     ]
    },
    {
     "data": {
      "image/png": "[encoded data removed]",
      "text/plain": [
       "<Figure size 432x288 with 1 Axes>"
      ]
     },
     "metadata": {
      "needs_background": "light"
     },
     "output_type": "display_data"
    }
   ],
   "source": [
    "\"\"\"\n",
    " Feature Importance Forest of Trees\n",
    "\"\"\"\n",
    "import numpy as np\n",
    "import matplotlib.pyplot as plt\n",
    "\n",
    "from sklearn.datasets import make_classification\n",
    "from sklearn.ensemble import ExtraTreesClassifier\n",
    "\n",
    "# Build a forest and compute the feature importances\n",
    "forest = ExtraTreesClassifier(n_estimators=250,\n",
    "                              random_state=0)\n",
    "\n",
    "forest.fit(X_new, y)\n",
    "importances = forest.feature_importances_\n",
    "std = np.std([tree.feature_importances_ for tree in forest.estimators_],\n",
    "             axis=0)\n",
    "indices = np.argsort(importances)[::-1]\n",
    "\n",
    "# Print the feature ranking\n",
    "print(\"Feature ranking:\")\n",
    "\n",
    "def printColumn(number):\n",
    "  switcher = {\n",
    "      0: \"Bio Length\",\n",
    "      1: \"#Post\",\n",
    "      2: \"#Followers\",\n",
    "      3: \"#Following\",\n",
    "  }\n",
    "  return switcher.get(number, \"Invalid Column\")\n",
    "\n",
    "for f in range(X_new.shape[1]):\n",
    "    print(\"%d. feature %d (%f) %s\" % (f + 1, indices[f], importances[indices[f]], printColumn(indices[f])))\n",
    "\n",
    "# Plot the feature importances of the forest\n",
    "plt.figure()\n",
    "plt.title(\"Feature importances\")\n",
    "plt.bar(range(X_new.shape[1]), importances[indices],\n",
    "       color=\"r\", yerr=std[indices], align=\"center\")\n",
    "plt.xticks(range(X_new.shape[1]), indices)\n",
    "plt.xlim([-1, X.shape[1]])\n",
    "plt.show()"
   ]
  },
  {
   "cell_type": "code",
   "execution_count": 16,
   "metadata": {
    "colab": {
     "base_uri": "https://localhost:8080/",
     "height": 195
    },
    "colab_type": "code",
    "id": "91JB1ZnAZ8SG",
    "outputId": "7fa55362-caf7-4cf6-e03a-cc0e1c8926eb"
   },
   "outputs": [
    {
     "name": "stdout",
     "output_type": "stream",
     "text": [
      "804 804\n",
      "396 396\n",
      "DecisionTreeClassifier(ccp_alpha=0.0, class_weight=None, criterion='gini',\n",
      "                       max_depth=None, max_features=None, max_leaf_nodes=None,\n",
      "                       min_impurity_decrease=0.0, min_impurity_split=None,\n",
      "                       min_samples_leaf=1, min_samples_split=2,\n",
      "                       min_weight_fraction_leaf=0.0, presort='deprecated',\n",
      "                       random_state=None, splitter='best')\n",
      "TRAIN SET 1.0\n",
      "TEST  SET 0.9671717171717171\n"
     ]
    }
   ],
   "source": [
    "\"\"\"\n",
    "  Decision Tree Classifier\n",
    "\"\"\"\n",
    "from sklearn import tree\n",
    "clf = tree.DecisionTreeClassifier()\n",
    "clf = clf.fit(X_new, y)\n",
    "\n",
    "# Train and Test algorithms\n",
    "from sklearn.model_selection import train_test_split\n",
    "X_train, X_test, y_train, y_test = train_test_split(X_new, y, test_size=0.33, random_state=42)\n",
    "\n",
    "print(len(X_train), len(y_train))\n",
    "print(len(X_test), len(y_test))\n",
    "\n",
    "print(clf.fit(X_train, y_train))\n",
    "\n",
    "print(\"TRAIN SET\", clf.score(X_train, y_train))\n",
    "print(\"TEST  SET\", clf.score(X_test, y_test))"
   ]
  },
  {
   "cell_type": "code",
   "execution_count": null,
   "metadata": {},
   "outputs": [],
   "source": []
  }
 ],
 "metadata": {
  "colab": {
   "collapsed_sections": [],
   "name": "Univariate Feature Selection - Select Best (k=4).ipynb",
   "provenance": []
  },
  "kernelspec": {
   "display_name": "Python 3",
   "language": "python",
   "name": "python3"
  },
  "language_info": {
   "codemirror_mode": {
    "name": "ipython",
    "version": 3
   },
   "file_extension": ".py",
   "mimetype": "text/x-python",
   "name": "python",
   "nbconvert_exporter": "python",
   "pygments_lexer": "ipython3",
   "version": "3.7.5"
  }
 },
 "nbformat": 4,
 "nbformat_minor": 1
}
