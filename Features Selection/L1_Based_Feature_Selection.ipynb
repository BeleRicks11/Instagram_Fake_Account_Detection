{
  "nbformat": 4,
  "nbformat_minor": 0,
  "metadata": {
    "colab": {
      "name": " L1-based feature selection",
      "provenance": [],
      "collapsed_sections": []
    },
    "kernelspec": {
      "name": "python3",
      "display_name": "Python 3"
    }
  },
  "cells": [
    {
      "cell_type": "code",
      "metadata": {
        "id": "x6ds4FJBBIr5",
        "colab_type": "code",
        "colab": {}
      },
      "source": [
        "import pandas as pd\n",
        "\n",
        "df = pd.read_csv(\"DataSet.csv\")"
      ],
      "execution_count": 0,
      "outputs": []
    },
    {
      "cell_type": "code",
      "metadata": {
        "id": "CkRdhCBIBQQh",
        "colab_type": "code",
        "outputId": "7e6fd6c8-18b0-4663-9529-f0bf04dfa7f8",
        "colab": {
          "base_uri": "https://localhost:8080/",
          "height": 453
        }
      },
      "source": [
        "df"
      ],
      "execution_count": 12,
      "outputs": [
        {
          "output_type": "execute_result",
          "data": {
            "text/html": [
              "<div>\n",
              "<style scoped>\n",
              "    .dataframe tbody tr th:only-of-type {\n",
              "        vertical-align: middle;\n",
              "    }\n",
              "\n",
              "    .dataframe tbody tr th {\n",
              "        vertical-align: top;\n",
              "    }\n",
              "\n",
              "    .dataframe thead th {\n",
              "        text-align: right;\n",
              "    }\n",
              "</style>\n",
              "<table border=\"1\" class=\"dataframe\">\n",
              "  <thead>\n",
              "    <tr style=\"text-align: right;\">\n",
              "      <th></th>\n",
              "      <th>Profile Pic</th>\n",
              "      <th>Full Name Words</th>\n",
              "      <th>Nums/Length Fullname</th>\n",
              "      <th>Bio Length</th>\n",
              "      <th>External Url</th>\n",
              "      <th>Private</th>\n",
              "      <th>Verified</th>\n",
              "      <th>Business</th>\n",
              "      <th>#Posts</th>\n",
              "      <th>#Followers</th>\n",
              "      <th>#Following</th>\n",
              "      <th>Delta</th>\n",
              "      <th>Fake</th>\n",
              "    </tr>\n",
              "  </thead>\n",
              "  <tbody>\n",
              "    <tr>\n",
              "      <th>0</th>\n",
              "      <td>1</td>\n",
              "      <td>2</td>\n",
              "      <td>0.0</td>\n",
              "      <td>42</td>\n",
              "      <td>1</td>\n",
              "      <td>0</td>\n",
              "      <td>0</td>\n",
              "      <td>0</td>\n",
              "      <td>102</td>\n",
              "      <td>678</td>\n",
              "      <td>405</td>\n",
              "      <td>273</td>\n",
              "      <td>0</td>\n",
              "    </tr>\n",
              "    <tr>\n",
              "      <th>1</th>\n",
              "      <td>1</td>\n",
              "      <td>2</td>\n",
              "      <td>0.0</td>\n",
              "      <td>0</td>\n",
              "      <td>0</td>\n",
              "      <td>0</td>\n",
              "      <td>0</td>\n",
              "      <td>0</td>\n",
              "      <td>58</td>\n",
              "      <td>334</td>\n",
              "      <td>434</td>\n",
              "      <td>-100</td>\n",
              "      <td>0</td>\n",
              "    </tr>\n",
              "    <tr>\n",
              "      <th>2</th>\n",
              "      <td>1</td>\n",
              "      <td>0</td>\n",
              "      <td>0.0</td>\n",
              "      <td>0</td>\n",
              "      <td>0</td>\n",
              "      <td>0</td>\n",
              "      <td>0</td>\n",
              "      <td>0</td>\n",
              "      <td>44</td>\n",
              "      <td>539</td>\n",
              "      <td>364</td>\n",
              "      <td>175</td>\n",
              "      <td>0</td>\n",
              "    </tr>\n",
              "    <tr>\n",
              "      <th>3</th>\n",
              "      <td>1</td>\n",
              "      <td>2</td>\n",
              "      <td>0.0</td>\n",
              "      <td>14</td>\n",
              "      <td>0</td>\n",
              "      <td>0</td>\n",
              "      <td>0</td>\n",
              "      <td>0</td>\n",
              "      <td>188</td>\n",
              "      <td>3098</td>\n",
              "      <td>286</td>\n",
              "      <td>2812</td>\n",
              "      <td>0</td>\n",
              "    </tr>\n",
              "    <tr>\n",
              "      <th>4</th>\n",
              "      <td>1</td>\n",
              "      <td>2</td>\n",
              "      <td>0.0</td>\n",
              "      <td>0</td>\n",
              "      <td>0</td>\n",
              "      <td>0</td>\n",
              "      <td>0</td>\n",
              "      <td>1</td>\n",
              "      <td>496</td>\n",
              "      <td>1079</td>\n",
              "      <td>1979</td>\n",
              "      <td>-900</td>\n",
              "      <td>0</td>\n",
              "    </tr>\n",
              "    <tr>\n",
              "      <th>...</th>\n",
              "      <td>...</td>\n",
              "      <td>...</td>\n",
              "      <td>...</td>\n",
              "      <td>...</td>\n",
              "      <td>...</td>\n",
              "      <td>...</td>\n",
              "      <td>...</td>\n",
              "      <td>...</td>\n",
              "      <td>...</td>\n",
              "      <td>...</td>\n",
              "      <td>...</td>\n",
              "      <td>...</td>\n",
              "      <td>...</td>\n",
              "    </tr>\n",
              "    <tr>\n",
              "      <th>1195</th>\n",
              "      <td>1</td>\n",
              "      <td>2</td>\n",
              "      <td>0.0</td>\n",
              "      <td>2</td>\n",
              "      <td>0</td>\n",
              "      <td>1</td>\n",
              "      <td>0</td>\n",
              "      <td>0</td>\n",
              "      <td>8</td>\n",
              "      <td>661</td>\n",
              "      <td>1562</td>\n",
              "      <td>-901</td>\n",
              "      <td>1</td>\n",
              "    </tr>\n",
              "    <tr>\n",
              "      <th>1196</th>\n",
              "      <td>0</td>\n",
              "      <td>0</td>\n",
              "      <td>0.0</td>\n",
              "      <td>0</td>\n",
              "      <td>0</td>\n",
              "      <td>0</td>\n",
              "      <td>0</td>\n",
              "      <td>0</td>\n",
              "      <td>0</td>\n",
              "      <td>2</td>\n",
              "      <td>223</td>\n",
              "      <td>-221</td>\n",
              "      <td>1</td>\n",
              "    </tr>\n",
              "    <tr>\n",
              "      <th>1197</th>\n",
              "      <td>1</td>\n",
              "      <td>2</td>\n",
              "      <td>0.0</td>\n",
              "      <td>58</td>\n",
              "      <td>0</td>\n",
              "      <td>1</td>\n",
              "      <td>0</td>\n",
              "      <td>0</td>\n",
              "      <td>47</td>\n",
              "      <td>296</td>\n",
              "      <td>4909</td>\n",
              "      <td>-4613</td>\n",
              "      <td>1</td>\n",
              "    </tr>\n",
              "    <tr>\n",
              "      <th>1198</th>\n",
              "      <td>1</td>\n",
              "      <td>1</td>\n",
              "      <td>0.0</td>\n",
              "      <td>0</td>\n",
              "      <td>0</td>\n",
              "      <td>1</td>\n",
              "      <td>0</td>\n",
              "      <td>0</td>\n",
              "      <td>0</td>\n",
              "      <td>5</td>\n",
              "      <td>67</td>\n",
              "      <td>-62</td>\n",
              "      <td>1</td>\n",
              "    </tr>\n",
              "    <tr>\n",
              "      <th>1199</th>\n",
              "      <td>1</td>\n",
              "      <td>1</td>\n",
              "      <td>0.0</td>\n",
              "      <td>0</td>\n",
              "      <td>0</td>\n",
              "      <td>0</td>\n",
              "      <td>0</td>\n",
              "      <td>0</td>\n",
              "      <td>3</td>\n",
              "      <td>81</td>\n",
              "      <td>6108</td>\n",
              "      <td>-6027</td>\n",
              "      <td>1</td>\n",
              "    </tr>\n",
              "  </tbody>\n",
              "</table>\n",
              "<p>1200 rows × 13 columns</p>\n",
              "</div>"
            ],
            "text/plain": [
              "      Profile Pic  Full Name Words  ...  Delta  Fake\n",
              "0               1                2  ...    273     0\n",
              "1               1                2  ...   -100     0\n",
              "2               1                0  ...    175     0\n",
              "3               1                2  ...   2812     0\n",
              "4               1                2  ...   -900     0\n",
              "...           ...              ...  ...    ...   ...\n",
              "1195            1                2  ...   -901     1\n",
              "1196            0                0  ...   -221     1\n",
              "1197            1                2  ...  -4613     1\n",
              "1198            1                1  ...    -62     1\n",
              "1199            1                1  ...  -6027     1\n",
              "\n",
              "[1200 rows x 13 columns]"
            ]
          },
          "metadata": {
            "tags": []
          },
          "execution_count": 12
        }
      ]
    },
    {
      "cell_type": "code",
      "metadata": {
        "id": "n_1WSismBapB",
        "colab_type": "code",
        "outputId": "c3f89707-f83a-4aeb-dfd8-4c2fbcedee53",
        "colab": {
          "base_uri": "https://localhost:8080/",
          "height": 248
        }
      },
      "source": [
        "# Set X array, containing all the values to valuate a Fake Account\n",
        "X = df.iloc[:, 0:12].values\n",
        "X"
      ],
      "execution_count": 13,
      "outputs": [
        {
          "output_type": "execute_result",
          "data": {
            "text/plain": [
              "array([[ 1.000e+00,  2.000e+00,  0.000e+00, ...,  6.780e+02,  4.050e+02,\n",
              "         2.730e+02],\n",
              "       [ 1.000e+00,  2.000e+00,  0.000e+00, ...,  3.340e+02,  4.340e+02,\n",
              "        -1.000e+02],\n",
              "       [ 1.000e+00,  0.000e+00,  0.000e+00, ...,  5.390e+02,  3.640e+02,\n",
              "         1.750e+02],\n",
              "       ...,\n",
              "       [ 1.000e+00,  2.000e+00,  0.000e+00, ...,  2.960e+02,  4.909e+03,\n",
              "        -4.613e+03],\n",
              "       [ 1.000e+00,  1.000e+00,  0.000e+00, ...,  5.000e+00,  6.700e+01,\n",
              "        -6.200e+01],\n",
              "       [ 1.000e+00,  1.000e+00,  0.000e+00, ...,  8.100e+01,  6.108e+03,\n",
              "        -6.027e+03]])"
            ]
          },
          "metadata": {
            "tags": []
          },
          "execution_count": 13
        }
      ]
    },
    {
      "cell_type": "code",
      "metadata": {
        "id": "LZmNKy1TBekY",
        "colab_type": "code",
        "outputId": "081d6bdb-dc23-4198-a645-70e2412614f8",
        "colab": {
          "base_uri": "https://localhost:8080/",
          "height": 35
        }
      },
      "source": [
        "# Assign y and print \n",
        "y=df.iloc[:,12].values\n",
        "y"
      ],
      "execution_count": 14,
      "outputs": [
        {
          "output_type": "execute_result",
          "data": {
            "text/plain": [
              "array([0, 0, 0, ..., 1, 1, 1])"
            ]
          },
          "metadata": {
            "tags": []
          },
          "execution_count": 14
        }
      ]
    },
    {
      "cell_type": "code",
      "metadata": {
        "id": "0cNVdmhIBhBQ",
        "colab_type": "code",
        "outputId": "95ccaeab-3f7b-40ef-e061-e652ff531c2e",
        "colab": {
          "base_uri": "https://localhost:8080/",
          "height": 35
        }
      },
      "source": [
        "\"\"\"\"\n",
        "   The features are considered unimportant and removed, if the corresponding coef_ or feature_importances_ \n",
        "   values are below the provided threshold parameter. Apart from specifying the threshold numerically, \n",
        "   there are built-in heuristics for finding a threshold using a string argument. Available heuristics are \n",
        "   “mean”, “median” and float multiples of these like “0.1*mean”.\n",
        "\"\"\"\n",
        "from sklearn.svm import LinearSVC\n",
        "from sklearn.feature_selection import SelectFromModel\n",
        "\n",
        "# Used when the goal is to reduce the dimensionality of the data to use\n",
        "\n",
        "X.shape"
      ],
      "execution_count": 17,
      "outputs": [
        {
          "output_type": "execute_result",
          "data": {
            "text/plain": [
              "(1200, 12)"
            ]
          },
          "metadata": {
            "tags": []
          },
          "execution_count": 17
        }
      ]
    },
    {
      "cell_type": "code",
      "metadata": {
        "id": "-U6Ck6RlCoGr",
        "colab_type": "code",
        "outputId": "ae4264b6-51e8-431d-914a-c7e3e1339f07",
        "colab": {
          "base_uri": "https://localhost:8080/",
          "height": 35
        }
      },
      "source": [
        "lsvc = LinearSVC(C=0.01, penalty=\"l1\", dual=False).fit(X, y)\n",
        "model = SelectFromModel(lsvc, prefit=True)\n",
        "X_new = model.transform(X)\n",
        "X_new.shape"
      ],
      "execution_count": 18,
      "outputs": [
        {
          "output_type": "execute_result",
          "data": {
            "text/plain": [
              "(1200, 6)"
            ]
          },
          "metadata": {
            "tags": []
          },
          "execution_count": 18
        }
      ]
    },
    {
      "cell_type": "code",
      "metadata": {
        "id": "2hD7b2-2Jsq_",
        "colab_type": "code",
        "colab": {
          "base_uri": "https://localhost:8080/",
          "height": 248
        },
        "outputId": "9c251187-ca89-4827-8746-afcc90a19173"
      },
      "source": [
        "X_new"
      ],
      "execution_count": 19,
      "outputs": [
        {
          "output_type": "execute_result",
          "data": {
            "text/plain": [
              "array([[ 2.000e+00,  4.200e+01,  1.020e+02,  6.780e+02,  4.050e+02,\n",
              "         2.730e+02],\n",
              "       [ 2.000e+00,  0.000e+00,  5.800e+01,  3.340e+02,  4.340e+02,\n",
              "        -1.000e+02],\n",
              "       [ 0.000e+00,  0.000e+00,  4.400e+01,  5.390e+02,  3.640e+02,\n",
              "         1.750e+02],\n",
              "       ...,\n",
              "       [ 2.000e+00,  5.800e+01,  4.700e+01,  2.960e+02,  4.909e+03,\n",
              "        -4.613e+03],\n",
              "       [ 1.000e+00,  0.000e+00,  0.000e+00,  5.000e+00,  6.700e+01,\n",
              "        -6.200e+01],\n",
              "       [ 1.000e+00,  0.000e+00,  3.000e+00,  8.100e+01,  6.108e+03,\n",
              "        -6.027e+03]])"
            ]
          },
          "metadata": {
            "tags": []
          },
          "execution_count": 19
        }
      ]
    },
    {
      "cell_type": "code",
      "metadata": {
        "id": "3HKy4qV2gykh",
        "colab_type": "code",
        "colab": {
          "base_uri": "https://localhost:8080/",
          "height": 405
        },
        "outputId": "dc0ffebd-a435-4eaa-8abe-1ff771f5a165"
      },
      "source": [
        "\"\"\"\n",
        " Feature Importance Forest of Trees\n",
        "\"\"\"\n",
        "import numpy as np\n",
        "import matplotlib.pyplot as plt\n",
        "\n",
        "from sklearn.datasets import make_classification\n",
        "from sklearn.ensemble import ExtraTreesClassifier\n",
        "\n",
        "# Build a forest and compute the feature importances\n",
        "forest = ExtraTreesClassifier(n_estimators=250,\n",
        "                              random_state=0)\n",
        "\n",
        "forest.fit(X_new, y)\n",
        "importances = forest.feature_importances_\n",
        "std = np.std([tree.feature_importances_ for tree in forest.estimators_],\n",
        "             axis=0)\n",
        "indices = np.argsort(importances)[::-1]\n",
        "\n",
        "# Print the feature ranking\n",
        "print(\"Feature ranking:\")\n",
        "\n",
        "def printColumn(number):\n",
        "  switcher = {\n",
        "      0: \"Nums / Length Fullname\",\n",
        "      1: \"Bio Length\",\n",
        "      2: \"#Post\",\n",
        "      3: \"#Followers\",\n",
        "      4: \"#Following\",\n",
        "      5: \"#Delta\",\n",
        "  }\n",
        "  return switcher.get(number, \"Invalid Column\")\n",
        "\n",
        "for f in range(X_new.shape[1]):\n",
        "    print(\"%d. feature %d (%f) %s\" % (f + 1, indices[f], importances[indices[f]], printColumn(indices[f])))\n",
        "\n",
        "# Plot the feature importances of the forest\n",
        "plt.figure()\n",
        "plt.title(\"Feature importances\")\n",
        "plt.bar(range(X_new.shape[1]), importances[indices],\n",
        "       color=\"r\", yerr=std[indices], align=\"center\")\n",
        "plt.xticks(range(X_new.shape[1]), indices)\n",
        "plt.xlim([-1, X.shape[1]])\n",
        "plt.show()"
      ],
      "execution_count": 20,
      "outputs": [
        {
          "output_type": "stream",
          "text": [
            "Feature ranking:\n",
            "1. feature 4 (0.301542) #Following\n",
            "2. feature 1 (0.243476) Bio Length\n",
            "3. feature 3 (0.140969) #Followers\n",
            "4. feature 5 (0.130878) #Delta\n",
            "5. feature 2 (0.109995) #Post\n",
            "6. feature 0 (0.073141) Nums / Length Fullname\n"
          ],
          "name": "stdout"
        },
        {
          "output_type": "display_data",
          "data": {
            "image/png": "[encoded data removed]",
            "text/plain": [
              "<Figure size 432x288 with 1 Axes>"
            ]
          },
          "metadata": {
            "tags": []
          }
        }
      ]
    },
    {
      "cell_type": "code",
      "metadata": {
        "id": "96PtVsxmhEYl",
        "colab_type": "code",
        "colab": {
          "base_uri": "https://localhost:8080/",
          "height": 195
        },
        "outputId": "03c74627-664d-4999-b1f6-7d81b6e0e58a"
      },
      "source": [
        "\"\"\"\n",
        "  Decision Tree Classifier\n",
        "\"\"\"\n",
        "from sklearn import tree\n",
        "clf = tree.DecisionTreeClassifier()\n",
        "clf = clf.fit(X_new, y)\n",
        "\n",
        "# Train and Test algorithms\n",
        "from sklearn.model_selection import train_test_split\n",
        "X_train, X_test, y_train, y_test = train_test_split(X_new, y, test_size=0.33, random_state=42)\n",
        "\n",
        "print(len(X_train), len(y_train))\n",
        "print(len(X_test), len(y_test))\n",
        "\n",
        "print(clf.fit(X_train, y_train))\n",
        "\n",
        "print(\"TRAIN SET\", clf.score(X_train, y_train))\n",
        "print(\"TEST  SET\", clf.score(X_test, y_test))"
      ],
      "execution_count": 21,
      "outputs": [
        {
          "output_type": "stream",
          "text": [
            "804 804\n",
            "396 396\n",
            "DecisionTreeClassifier(ccp_alpha=0.0, class_weight=None, criterion='gini',\n",
            "                       max_depth=None, max_features=None, max_leaf_nodes=None,\n",
            "                       min_impurity_decrease=0.0, min_impurity_split=None,\n",
            "                       min_samples_leaf=1, min_samples_split=2,\n",
            "                       min_weight_fraction_leaf=0.0, presort='deprecated',\n",
            "                       random_state=None, splitter='best')\n",
            "TRAIN SET 1.0\n",
            "TEST  SET 0.9570707070707071\n"
          ],
          "name": "stdout"
        }
      ]
    }
  ]
}