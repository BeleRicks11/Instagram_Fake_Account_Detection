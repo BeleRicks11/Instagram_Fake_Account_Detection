{
  "nbformat": 4,
  "nbformat_minor": 0,
  "metadata": {
    "colab": {
      "name": "Features Importance Forest of Trees.ipynb",
      "provenance": [],
      "collapsed_sections": []
    },
    "kernelspec": {
      "name": "python3",
      "display_name": "Python 3"
    }
  },
  "cells": [
    {
      "cell_type": "code",
      "metadata": {
        "id": "OADFwxpspAKW",
        "colab_type": "code",
        "colab": {}
      },
      "source": [
        "import pandas as pd\n",
        "\n",
        "df = pd.read_csv(\"DataSet.csv\")"
      ],
      "execution_count": 0,
      "outputs": []
    },
    {
      "cell_type": "code",
      "metadata": {
        "id": "FxN7KH9dpGiN",
        "colab_type": "code",
        "outputId": "1ac00830-e5d2-41b1-a398-b91ddb1ba0b3",
        "colab": {
          "base_uri": "https://localhost:8080/",
          "height": 399
        }
      },
      "source": [
        "df"
      ],
      "execution_count": 0,
      "outputs": [
        {
          "output_type": "execute_result",
          "data": {
            "text/html": [
              "<div>\n",
              "<style scoped>\n",
              "    .dataframe tbody tr th:only-of-type {\n",
              "        vertical-align: middle;\n",
              "    }\n",
              "\n",
              "    .dataframe tbody tr th {\n",
              "        vertical-align: top;\n",
              "    }\n",
              "\n",
              "    .dataframe thead th {\n",
              "        text-align: right;\n",
              "    }\n",
              "</style>\n",
              "<table border=\"1\" class=\"dataframe\">\n",
              "  <thead>\n",
              "    <tr style=\"text-align: right;\">\n",
              "      <th></th>\n",
              "      <th>Profile Pic</th>\n",
              "      <th>Full Name Words</th>\n",
              "      <th>Nums/Length Fullname</th>\n",
              "      <th>Bio Length</th>\n",
              "      <th>External Url</th>\n",
              "      <th>Private</th>\n",
              "      <th>Verified</th>\n",
              "      <th>Business</th>\n",
              "      <th>#Posts</th>\n",
              "      <th>#Followers</th>\n",
              "      <th>#Following</th>\n",
              "      <th>Delta</th>\n",
              "      <th>Fake</th>\n",
              "    </tr>\n",
              "  </thead>\n",
              "  <tbody>\n",
              "    <tr>\n",
              "      <th>0</th>\n",
              "      <td>1</td>\n",
              "      <td>2</td>\n",
              "      <td>0.0</td>\n",
              "      <td>42</td>\n",
              "      <td>1</td>\n",
              "      <td>0</td>\n",
              "      <td>0</td>\n",
              "      <td>0</td>\n",
              "      <td>102</td>\n",
              "      <td>678</td>\n",
              "      <td>405</td>\n",
              "      <td>273</td>\n",
              "      <td>0</td>\n",
              "    </tr>\n",
              "    <tr>\n",
              "      <th>1</th>\n",
              "      <td>1</td>\n",
              "      <td>2</td>\n",
              "      <td>0.0</td>\n",
              "      <td>0</td>\n",
              "      <td>0</td>\n",
              "      <td>0</td>\n",
              "      <td>0</td>\n",
              "      <td>0</td>\n",
              "      <td>58</td>\n",
              "      <td>334</td>\n",
              "      <td>434</td>\n",
              "      <td>-100</td>\n",
              "      <td>0</td>\n",
              "    </tr>\n",
              "    <tr>\n",
              "      <th>2</th>\n",
              "      <td>1</td>\n",
              "      <td>0</td>\n",
              "      <td>0.0</td>\n",
              "      <td>0</td>\n",
              "      <td>0</td>\n",
              "      <td>0</td>\n",
              "      <td>0</td>\n",
              "      <td>0</td>\n",
              "      <td>44</td>\n",
              "      <td>539</td>\n",
              "      <td>364</td>\n",
              "      <td>175</td>\n",
              "      <td>0</td>\n",
              "    </tr>\n",
              "    <tr>\n",
              "      <th>3</th>\n",
              "      <td>1</td>\n",
              "      <td>2</td>\n",
              "      <td>0.0</td>\n",
              "      <td>14</td>\n",
              "      <td>0</td>\n",
              "      <td>0</td>\n",
              "      <td>0</td>\n",
              "      <td>0</td>\n",
              "      <td>188</td>\n",
              "      <td>3098</td>\n",
              "      <td>286</td>\n",
              "      <td>2812</td>\n",
              "      <td>0</td>\n",
              "    </tr>\n",
              "    <tr>\n",
              "      <th>4</th>\n",
              "      <td>1</td>\n",
              "      <td>2</td>\n",
              "      <td>0.0</td>\n",
              "      <td>0</td>\n",
              "      <td>0</td>\n",
              "      <td>0</td>\n",
              "      <td>0</td>\n",
              "      <td>1</td>\n",
              "      <td>496</td>\n",
              "      <td>1079</td>\n",
              "      <td>1979</td>\n",
              "      <td>-900</td>\n",
              "      <td>0</td>\n",
              "    </tr>\n",
              "    <tr>\n",
              "      <th>...</th>\n",
              "      <td>...</td>\n",
              "      <td>...</td>\n",
              "      <td>...</td>\n",
              "      <td>...</td>\n",
              "      <td>...</td>\n",
              "      <td>...</td>\n",
              "      <td>...</td>\n",
              "      <td>...</td>\n",
              "      <td>...</td>\n",
              "      <td>...</td>\n",
              "      <td>...</td>\n",
              "      <td>...</td>\n",
              "      <td>...</td>\n",
              "    </tr>\n",
              "    <tr>\n",
              "      <th>1195</th>\n",
              "      <td>1</td>\n",
              "      <td>2</td>\n",
              "      <td>0.0</td>\n",
              "      <td>2</td>\n",
              "      <td>0</td>\n",
              "      <td>1</td>\n",
              "      <td>0</td>\n",
              "      <td>0</td>\n",
              "      <td>8</td>\n",
              "      <td>661</td>\n",
              "      <td>1562</td>\n",
              "      <td>-901</td>\n",
              "      <td>1</td>\n",
              "    </tr>\n",
              "    <tr>\n",
              "      <th>1196</th>\n",
              "      <td>0</td>\n",
              "      <td>0</td>\n",
              "      <td>0.0</td>\n",
              "      <td>0</td>\n",
              "      <td>0</td>\n",
              "      <td>0</td>\n",
              "      <td>0</td>\n",
              "      <td>0</td>\n",
              "      <td>0</td>\n",
              "      <td>2</td>\n",
              "      <td>223</td>\n",
              "      <td>-221</td>\n",
              "      <td>1</td>\n",
              "    </tr>\n",
              "    <tr>\n",
              "      <th>1197</th>\n",
              "      <td>1</td>\n",
              "      <td>2</td>\n",
              "      <td>0.0</td>\n",
              "      <td>58</td>\n",
              "      <td>0</td>\n",
              "      <td>1</td>\n",
              "      <td>0</td>\n",
              "      <td>0</td>\n",
              "      <td>47</td>\n",
              "      <td>296</td>\n",
              "      <td>4909</td>\n",
              "      <td>-4613</td>\n",
              "      <td>1</td>\n",
              "    </tr>\n",
              "    <tr>\n",
              "      <th>1198</th>\n",
              "      <td>1</td>\n",
              "      <td>1</td>\n",
              "      <td>0.0</td>\n",
              "      <td>0</td>\n",
              "      <td>0</td>\n",
              "      <td>1</td>\n",
              "      <td>0</td>\n",
              "      <td>0</td>\n",
              "      <td>0</td>\n",
              "      <td>5</td>\n",
              "      <td>67</td>\n",
              "      <td>-62</td>\n",
              "      <td>1</td>\n",
              "    </tr>\n",
              "    <tr>\n",
              "      <th>1199</th>\n",
              "      <td>1</td>\n",
              "      <td>1</td>\n",
              "      <td>0.0</td>\n",
              "      <td>0</td>\n",
              "      <td>0</td>\n",
              "      <td>0</td>\n",
              "      <td>0</td>\n",
              "      <td>0</td>\n",
              "      <td>3</td>\n",
              "      <td>81</td>\n",
              "      <td>6108</td>\n",
              "      <td>-6027</td>\n",
              "      <td>1</td>\n",
              "    </tr>\n",
              "  </tbody>\n",
              "</table>\n",
              "<p>1200 rows × 13 columns</p>\n",
              "</div>"
            ],
            "text/plain": [
              "      Profile Pic  Full Name Words  ...  Delta  Fake\n",
              "0               1                2  ...    273     0\n",
              "1               1                2  ...   -100     0\n",
              "2               1                0  ...    175     0\n",
              "3               1                2  ...   2812     0\n",
              "4               1                2  ...   -900     0\n",
              "...           ...              ...  ...    ...   ...\n",
              "1195            1                2  ...   -901     1\n",
              "1196            0                0  ...   -221     1\n",
              "1197            1                2  ...  -4613     1\n",
              "1198            1                1  ...    -62     1\n",
              "1199            1                1  ...  -6027     1\n",
              "\n",
              "[1200 rows x 13 columns]"
            ]
          },
          "metadata": {
            "tags": []
          },
          "execution_count": 4
        }
      ]
    },
    {
      "cell_type": "code",
      "metadata": {
        "id": "LMxK66jCqRA2",
        "colab_type": "code",
        "outputId": "2d9a8d40-3403-44de-8191-00e76f980f6f",
        "colab": {
          "base_uri": "https://localhost:8080/",
          "height": 248
        }
      },
      "source": [
        "X=df.iloc[:, 0:12].values\n",
        "X"
      ],
      "execution_count": 2,
      "outputs": [
        {
          "output_type": "execute_result",
          "data": {
            "text/plain": [
              "array([[ 1.000e+00,  2.000e+00,  0.000e+00, ...,  6.780e+02,  4.050e+02,\n",
              "         2.730e+02],\n",
              "       [ 1.000e+00,  2.000e+00,  0.000e+00, ...,  3.340e+02,  4.340e+02,\n",
              "        -1.000e+02],\n",
              "       [ 1.000e+00,  0.000e+00,  0.000e+00, ...,  5.390e+02,  3.640e+02,\n",
              "         1.750e+02],\n",
              "       ...,\n",
              "       [ 1.000e+00,  2.000e+00,  0.000e+00, ...,  2.960e+02,  4.909e+03,\n",
              "        -4.613e+03],\n",
              "       [ 1.000e+00,  1.000e+00,  0.000e+00, ...,  5.000e+00,  6.700e+01,\n",
              "        -6.200e+01],\n",
              "       [ 1.000e+00,  1.000e+00,  0.000e+00, ...,  8.100e+01,  6.108e+03,\n",
              "        -6.027e+03]])"
            ]
          },
          "metadata": {
            "tags": []
          },
          "execution_count": 2
        }
      ]
    },
    {
      "cell_type": "code",
      "metadata": {
        "id": "2Zwi4WkEqbX_",
        "colab_type": "code",
        "outputId": "40b54ba4-6cb3-4682-b730-e2f2789b895f",
        "colab": {
          "base_uri": "https://localhost:8080/",
          "height": 35
        }
      },
      "source": [
        "y=df.iloc[:,12].values\n",
        "y"
      ],
      "execution_count": 3,
      "outputs": [
        {
          "output_type": "execute_result",
          "data": {
            "text/plain": [
              "array([0, 0, 0, ..., 1, 1, 1])"
            ]
          },
          "metadata": {
            "tags": []
          },
          "execution_count": 3
        }
      ]
    },
    {
      "cell_type": "code",
      "metadata": {
        "id": "jySq_axeqsuH",
        "colab_type": "code",
        "colab": {}
      },
      "source": [
        "import numpy as np\n",
        "import matplotlib.pyplot as plt\n",
        "\n",
        "from sklearn.datasets import make_classification\n",
        "from sklearn.ensemble import ExtraTreesClassifier\n",
        "\n",
        "# Build a forest and compute the feature importances\n",
        "forest = ExtraTreesClassifier(n_estimators=250,\n",
        "                              random_state=0)\n",
        "\n",
        "forest.fit(X, y)\n",
        "importances = forest.feature_importances_\n",
        "std = np.std([tree.feature_importances_ for tree in forest.estimators_],\n",
        "             axis=0)\n",
        "indices = np.argsort(importances)[::-1]"
      ],
      "execution_count": 0,
      "outputs": []
    },
    {
      "cell_type": "code",
      "metadata": {
        "id": "pkbxsQWVq3gs",
        "colab_type": "code",
        "outputId": "31a97000-6e2a-4244-c459-22d57a2598ad",
        "colab": {
          "base_uri": "https://localhost:8080/",
          "height": 248
        }
      },
      "source": [
        "def printColumn(number):\n",
        "  switcher = {\n",
        "      0: \"Profile Pic\",\n",
        "      1: \"Full Name Words\",\n",
        "      2: \"Nums/length Fullname\",\n",
        "      3: \"Bio Length\",\n",
        "      4: \"External URL\",\n",
        "      5: \"Private\",\n",
        "      6: \"Verified\",\n",
        "      7: \"Business\",\n",
        "      8: \"#Post\",\n",
        "      9: \"#Followers\",\n",
        "      10: \"#Following\",\n",
        "      11: \"Delta\",\n",
        "  }\n",
        "  return switcher.get(number, \"Invalid Column\")\n",
        "\n",
        "# Print the feature ranking\n",
        "print(\"Feature ranking:\")\n",
        "\n",
        "for f in range(X.shape[1]):\n",
        "    print(\"%d. feature %d (%f) %s\" % (f + 1, indices[f], importances[indices[f]], printColumn(indices[f])))"
      ],
      "execution_count": 7,
      "outputs": [
        {
          "output_type": "stream",
          "text": [
            "Feature ranking:\n",
            "1. feature 10 (0.230683) #Following\n",
            "2. feature 4 (0.122866) External URL\n",
            "3. feature 7 (0.118099) Business\n",
            "4. feature 3 (0.106851) Bio Length\n",
            "5. feature 11 (0.102253) Delta\n",
            "6. feature 9 (0.101463) #Followers\n",
            "7. feature 8 (0.057796) #Post\n",
            "8. feature 6 (0.052477) Verified\n",
            "9. feature 0 (0.041650) Profile Pic\n",
            "10. feature 1 (0.035338) Full Name Words\n",
            "11. feature 5 (0.025775) Private\n",
            "12. feature 2 (0.004748) Nums/length Fullname\n"
          ],
          "name": "stdout"
        }
      ]
    },
    {
      "cell_type": "code",
      "metadata": {
        "id": "2mcP7TWdrCRB",
        "colab_type": "code",
        "outputId": "96e57a35-b070-4912-d14c-1e42ab02e3be",
        "colab": {
          "base_uri": "https://localhost:8080/",
          "height": 281
        }
      },
      "source": [
        "# Plot the feature importances of the forest\n",
        "plt.figure()\n",
        "plt.title(\"Feature importances\")\n",
        "plt.bar(range(X.shape[1]), importances[indices],\n",
        "       color=\"r\", yerr=std[indices], align=\"center\")\n",
        "plt.xticks(range(X.shape[1]), indices)\n",
        "plt.xlim([-1, X.shape[1]])\n",
        "plt.show()"
      ],
      "execution_count": 8,
      "outputs": [
        {
          "output_type": "display_data",
          "data": {
            "image/png": "[encoded data removed]",
            "text/plain": [
              "<Figure size 432x288 with 1 Axes>"
            ]
          },
          "metadata": {
            "tags": []
          }
        }
      ]
    }
  ]
}